{
 "cells": [
  {
   "cell_type": "markdown",
   "metadata": {},
   "source": [
    "### Quiz19\n",
    "จงเขียนโปรแกรมสุ่มเลขจำนวนเต็มในช่วง 10-100 ออกมาอยู่ใน matrix 5x5 และใช้ conditional selection เช็คว่าตัวใดบ้างมีค่ามากกว่า 40 นำมาใส่ List ที่สร้างใหม่ และปริ้นออกมา"
   ]
  },
  {
   "cell_type": "code",
   "execution_count": 1,
   "metadata": {},
   "outputs": [],
   "source": [
    "import numpy as np"
   ]
  },
  {
   "cell_type": "code",
   "execution_count": 3,
   "metadata": {},
   "outputs": [
    {
     "data": {
      "text/plain": [
       "array([[84, 89, 25, 59, 31],\n",
       "       [82, 36, 22, 56, 78],\n",
       "       [16, 52, 54, 86, 35],\n",
       "       [69, 63, 16, 68, 68],\n",
       "       [71, 11, 18, 26, 50]])"
      ]
     },
     "execution_count": 3,
     "metadata": {},
     "output_type": "execute_result"
    }
   ],
   "source": [
    "Q = np.random.randint(10,101,[5,5])"
   ]
  },
  {
   "cell_type": "code",
   "execution_count": 8,
   "metadata": {},
   "outputs": [
    {
     "name": "stdout",
     "output_type": "stream",
     "text": [
      "[84, 89, 59, 82, 56, 78, 52, 54, 86, 69, 63, 68, 68, 71, 50]\n"
     ]
    }
   ],
   "source": [
    "Result = Q[Q>40].tolist()\n",
    "print(Result)"
   ]
  },
  {
   "cell_type": "code",
   "execution_count": null,
   "metadata": {},
   "outputs": [],
   "source": []
  }
 ],
 "metadata": {
  "kernelspec": {
   "display_name": "Python 3",
   "language": "python",
   "name": "python3"
  },
  "language_info": {
   "codemirror_mode": {
    "name": "ipython",
    "version": 3
   },
   "file_extension": ".py",
   "mimetype": "text/x-python",
   "name": "python",
   "nbconvert_exporter": "python",
   "pygments_lexer": "ipython3",
   "version": "3.8.3"
  }
 },
 "nbformat": 4,
 "nbformat_minor": 4
}
