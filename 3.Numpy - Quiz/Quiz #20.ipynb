{
 "cells": [
  {
   "cell_type": "markdown",
   "metadata": {},
   "source": [
    "### Quiz20\n",
    "เขียนโปรแกรมรับค่าจากผู้ใช้ให้ป้อนเลข 9 ตัว แต่ละตัวต้องไม่ซ้ำกันและมีค่าอยู่ในช่วง 10-100 นำเลข 9 ตัวนั้นมาทำเป็น matrix  3x3 และ transport และหาเลขอยู่ตำแหน่งที่ (2,2)"
   ]
  },
  {
   "cell_type": "code",
   "execution_count": 1,
   "metadata": {},
   "outputs": [],
   "source": [
    "import numpy as np"
   ]
  },
  {
   "cell_type": "code",
   "execution_count": 31,
   "metadata": {},
   "outputs": [
    {
     "name": "stdout",
     "output_type": "stream",
     "text": [
      "ใส่เลข 12\n",
      "ใส่เลข 14\n",
      "ใส่เลข 16\n",
      "ใส่เลข 16\n",
      "ใส่เลขใหม่(ห้ามซ้ำ) 18\n",
      "ใส่เลข 16\n",
      "ใส่เลขใหม่(ห้ามซ้ำ) 20\n",
      "ใส่เลข 22\n",
      "ใส่เลข 23\n",
      "ใส่เลข 24\n",
      "ใส่เลข 25\n",
      "\n",
      "\n",
      "Original Metric\n",
      "[['12' '14' '16']\n",
      " ['18' '20' '22']\n",
      " ['23' '24' '25']]\n",
      "\n",
      "\n",
      "Transpose Metric\n",
      "[['12' '18' '23']\n",
      " ['14' '20' '24']\n",
      " ['16' '22' '25']]\n",
      "\n",
      "\n",
      "ตำแหน่งที่ 2,2 คือ  20\n"
     ]
    }
   ],
   "source": [
    "Box = []\n",
    "for i in range(9) :\n",
    "    x = input(\"ใส่เลข \")\n",
    "    while np.isin(x,Box) == True :\n",
    "        x = input(\"ใส่เลขใหม่(ห้ามซ้ำ) \")\n",
    "    Box.append(x)\n",
    "Box = np.array([Box])\n",
    "Box = Box.reshape(3,3)\n",
    "print(\"\\n\")\n",
    "print(\"Original Metric\")\n",
    "print(Box)\n",
    "print(\"\\n\")\n",
    "print(\"Transpose Metric\")\n",
    "print(np.transpose(Box))\n",
    "print(\"\\n\")\n",
    "print(\"ตำแหน่งที่ 2,2 คือ \",Box[1,1])"
   ]
  },
  {
   "cell_type": "code",
   "execution_count": null,
   "metadata": {},
   "outputs": [],
   "source": []
  }
 ],
 "metadata": {
  "kernelspec": {
   "display_name": "Python 3",
   "language": "python",
   "name": "python3"
  },
  "language_info": {
   "codemirror_mode": {
    "name": "ipython",
    "version": 3
   },
   "file_extension": ".py",
   "mimetype": "text/x-python",
   "name": "python",
   "nbconvert_exporter": "python",
   "pygments_lexer": "ipython3",
   "version": "3.8.3"
  }
 },
 "nbformat": 4,
 "nbformat_minor": 4
}
