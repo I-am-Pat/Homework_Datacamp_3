{
 "cells": [
  {
   "cell_type": "markdown",
   "metadata": {},
   "source": [
    "### Quiz4\n",
    "ทำเหมือนข้อ 3 แต่เขียนแบบ List comprehension"
   ]
  },
  {
   "cell_type": "code",
   "execution_count": 1,
   "metadata": {},
   "outputs": [],
   "source": [
    "import numpy as np"
   ]
  },
  {
   "cell_type": "code",
   "execution_count": 3,
   "metadata": {},
   "outputs": [
    {
     "data": {
      "text/plain": [
       "[7843.435695546922,\n",
       " 3135.203451195341,\n",
       " 9032.368624395316,\n",
       " 3521.8265366270853,\n",
       " 775.1832833212538,\n",
       " 1744.2009100294981,\n",
       " 518.5579712411011,\n",
       " 2808.5399029233236,\n",
       " 3376.5067590176604,\n",
       " 9592.074447135208,\n",
       " 3306.245635702282,\n",
       " 4078.692371347,\n",
       " 554.343889944522,\n",
       " 2858.559289455695,\n",
       " 7692.7129284139655,\n",
       " 2393.512740935312,\n",
       " 265.36761901337,\n",
       " 9865.192678825833,\n",
       " 2196.058798538534,\n",
       " 1527.9045735545528]"
      ]
     },
     "execution_count": 3,
     "metadata": {},
     "output_type": "execute_result"
    }
   ],
   "source": [
    "Result = [x**2 for x in np.random.uniform(10,100,20)]\n",
    "Result"
   ]
  },
  {
   "cell_type": "code",
   "execution_count": null,
   "metadata": {},
   "outputs": [],
   "source": []
  }
 ],
 "metadata": {
  "kernelspec": {
   "display_name": "Python 3",
   "language": "python",
   "name": "python3"
  },
  "language_info": {
   "codemirror_mode": {
    "name": "ipython",
    "version": 3
   },
   "file_extension": ".py",
   "mimetype": "text/x-python",
   "name": "python",
   "nbconvert_exporter": "python",
   "pygments_lexer": "ipython3",
   "version": "3.8.3"
  }
 },
 "nbformat": 4,
 "nbformat_minor": 4
}
