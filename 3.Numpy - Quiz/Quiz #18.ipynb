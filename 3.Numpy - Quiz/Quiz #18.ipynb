{
 "cells": [
  {
   "cell_type": "markdown",
   "metadata": {},
   "source": [
    "### Quiz18\n",
    "จงเขียนโปรแกรมสุ่มเลขจำนวนเต็มในช่วง 10-100 ออกมาอยู่ใน matrix 5x5 และใช้ If-else เช็คทีละตัวว่าตัวใดบ้างที่มีค่ามากกว่า  50 และปริ้นออกมา"
   ]
  },
  {
   "cell_type": "code",
   "execution_count": 1,
   "metadata": {},
   "outputs": [],
   "source": [
    "import numpy as np"
   ]
  },
  {
   "cell_type": "code",
   "execution_count": 6,
   "metadata": {},
   "outputs": [
    {
     "name": "stdout",
     "output_type": "stream",
     "text": [
      "[[51 25 60 24 40]\n",
      " [37 75 90 61 96]\n",
      " [16 95 90 66 56]\n",
      " [65 42 19 61 67]\n",
      " [39 10 32 71 62]] \n",
      "\n",
      "ค่าที่มากกว่า 5 \n",
      "\n",
      "51\n",
      "60\n",
      "75\n",
      "90\n",
      "61\n",
      "96\n",
      "95\n",
      "90\n",
      "66\n",
      "56\n",
      "65\n",
      "61\n",
      "67\n",
      "71\n",
      "62\n"
     ]
    }
   ],
   "source": [
    "Q = np.random.randint(10,101,[5,5])\n",
    "print(Q , \"\\n\")\n",
    "print(\"ค่าที่มากกว่า 5\",\"\\n\")\n",
    "for x in range(5) :\n",
    "    for y in range(5) :\n",
    "        if Q[x,y] > 50 :\n",
    "            print(Q[x,y])"
   ]
  },
  {
   "cell_type": "code",
   "execution_count": null,
   "metadata": {},
   "outputs": [],
   "source": []
  }
 ],
 "metadata": {
  "kernelspec": {
   "display_name": "Python 3",
   "language": "python",
   "name": "python3"
  },
  "language_info": {
   "codemirror_mode": {
    "name": "ipython",
    "version": 3
   },
   "file_extension": ".py",
   "mimetype": "text/x-python",
   "name": "python",
   "nbconvert_exporter": "python",
   "pygments_lexer": "ipython3",
   "version": "3.8.3"
  }
 },
 "nbformat": 4,
 "nbformat_minor": 4
}
