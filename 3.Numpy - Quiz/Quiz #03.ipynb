{
 "cells": [
  {
   "cell_type": "markdown",
   "metadata": {},
   "source": [
    "### Quiz3\n",
    "จงเขียน array ที่มีเป็นการ random ตัวเลข 20 ตัว แบบ float ค่าอยู่ในช่วง 10-99 แล้วนำแต่ละเลขยกกำลังสอง"
   ]
  },
  {
   "cell_type": "code",
   "execution_count": 1,
   "metadata": {},
   "outputs": [],
   "source": [
    "import numpy as np"
   ]
  },
  {
   "cell_type": "code",
   "execution_count": 16,
   "metadata": {},
   "outputs": [
    {
     "data": {
      "text/plain": [
       "array([1152.98055876, 8297.63467481, 9277.94863477, 9110.30587478,\n",
       "       1475.10464739, 3136.09995594, 4867.13266187, 3100.54482668,\n",
       "       1952.5948126 , 2522.12449185, 7371.79819369, 5606.74383383,\n",
       "       6744.57244356, 8850.39617114, 2459.98309527, 3687.95550454,\n",
       "       5954.37108158, 3779.40521385, 6575.93662142, 1107.73341895])"
      ]
     },
     "execution_count": 16,
     "metadata": {},
     "output_type": "execute_result"
    }
   ],
   "source": [
    "Result = np.random.uniform(10,100,20)\n",
    "Result**2"
   ]
  },
  {
   "cell_type": "code",
   "execution_count": null,
   "metadata": {},
   "outputs": [],
   "source": []
  }
 ],
 "metadata": {
  "kernelspec": {
   "display_name": "Python 3",
   "language": "python",
   "name": "python3"
  },
  "language_info": {
   "codemirror_mode": {
    "name": "ipython",
    "version": 3
   },
   "file_extension": ".py",
   "mimetype": "text/x-python",
   "name": "python",
   "nbconvert_exporter": "python",
   "pygments_lexer": "ipython3",
   "version": "3.8.3"
  }
 },
 "nbformat": 4,
 "nbformat_minor": 4
}
