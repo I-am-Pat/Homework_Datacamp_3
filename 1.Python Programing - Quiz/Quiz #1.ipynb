{
 "cells": [
  {
   "attachments": {},
   "cell_type": "markdown",
   "metadata": {},
   "source": [
    "#### Quiz 1.\n",
    "เขียนคำสั่งคำนวณหาเศษเหลือจากการหาร 2345 ด้วย 13 \n",
    "\n",
    "เขียนคำสั่งหาคำตอบจากการหาร 1567 ด้วย 17 โดยไม่เอาเศษส่วน\n",
    "\n",
    "FirstName กับ Firstname เป็นตัวแปรเดียวกันหรือไม่?\n",
    "\n",
    "13Friday เป็นตัวแปรที่ถูกต้องหรือไม่?\n",
    "\n",
    "จง Print ผลลัพธ์จากข้อ 1,2 โดยใช้คำสั่ง format"
   ]
  },
  {
   "cell_type": "code",
   "execution_count": 1,
   "metadata": {},
   "outputs": [
    {
     "name": "stdout",
     "output_type": "stream",
     "text": [
      "2\n",
      "92\n",
      "2345 % 3 = 2 , 1567 // 7 = 92\n"
     ]
    }
   ],
   "source": [
    "Quiz_1 = 2345 % 3\n",
    "Quiz_2 = 1567 // 17\n",
    "Quiz_3 = ('2345 % 3 = {} , 1567 // 7 = {}'.format(2345%3,1567//17))\n",
    "print(Quiz_1)\n",
    "print(Quiz_2)\n",
    "print(Quiz_3)"
   ]
  },
  {
   "cell_type": "code",
   "execution_count": null,
   "metadata": {},
   "outputs": [],
   "source": []
  }
 ],
 "metadata": {
  "kernelspec": {
   "display_name": "Python 3",
   "language": "python",
   "name": "python3"
  },
  "language_info": {
   "codemirror_mode": {
    "name": "ipython",
    "version": 3
   },
   "file_extension": ".py",
   "mimetype": "text/x-python",
   "name": "python",
   "nbconvert_exporter": "python",
   "pygments_lexer": "ipython3",
   "version": "3.8.3"
  }
 },
 "nbformat": 4,
 "nbformat_minor": 4
}
