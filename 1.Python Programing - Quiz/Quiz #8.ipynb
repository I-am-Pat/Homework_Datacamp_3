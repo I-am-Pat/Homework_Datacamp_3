{
 "cells": [
  {
   "attachments": {},
   "cell_type": "markdown",
   "metadata": {},
   "source": [
    "#### Quiz 8\n",
    "กำหนดให้ A = [1, 2, 3, 4, 5] และ B = [2, 3, 1, 3, 2] จงเขียน Map แบบ Multiple-list operations โดยให้ B ยกกำลังด้วย A พร้อมกับแสดงผล\n",
    "\n",
    "จงเขียนชื่อนักเรียน เลขที่ และคะแนนสอบไฟนอล พร้อมกับใช้คำสั่ง Zip() ในการจับคู่พร้อมกับแสดงผลลัพธ์ที่ถูกต้อง"
   ]
  },
  {
   "cell_type": "code",
   "execution_count": 1,
   "metadata": {},
   "outputs": [
    {
     "name": "stdout",
     "output_type": "stream",
     "text": [
      "[1, 8, 3, 64, 25]\n",
      "[1, 8, 3, 64, 25]\n"
     ]
    }
   ],
   "source": [
    "def Supat(x,y) :\n",
    "    return x**y\n",
    "A = [1,2,3,4,5]\n",
    "B = [2,3,1,3,2]\n",
    "Result = list(map(lambda x,y : x**y , A , B))\n",
    "Result2 = list(map(Supat,A,B))\n",
    "print(Result)\n",
    "print(Result2)"
   ]
  },
  {
   "cell_type": "code",
   "execution_count": 5,
   "metadata": {},
   "outputs": [
    {
     "name": "stdout",
     "output_type": "stream",
     "text": [
      "[('supat', '15,18', '98'), ('nichaphat', '19', '100'), ('supaporn', '25', '84')]\n"
     ]
    }
   ],
   "source": [
    "Name = ['supat','nichaphat','supaporn','sutida']\n",
    "No = ['15,''18','19','25']\n",
    "Score = ['98','100','84','94']\n",
    "Result = list(zip(Name,No,Score))\n",
    "print(Result)"
   ]
  }
 ],
 "metadata": {
  "kernelspec": {
   "display_name": "Python 3",
   "language": "python",
   "name": "python3"
  },
  "language_info": {
   "codemirror_mode": {
    "name": "ipython",
    "version": 3
   },
   "file_extension": ".py",
   "mimetype": "text/x-python",
   "name": "python",
   "nbconvert_exporter": "python",
   "pygments_lexer": "ipython3",
   "version": "3.8.3"
  }
 },
 "nbformat": 4,
 "nbformat_minor": 4
}
