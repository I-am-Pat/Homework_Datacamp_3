{
 "cells": [
  {
   "attachments": {},
   "cell_type": "markdown",
   "metadata": {},
   "source": [
    "#### Quiz3\n",
    "สร้างลิสต์ระบุชื่อ นามสกุล อายุ ตัวเอง\n",
    "\n",
    "ลบอายุออกจากลิสต์ \n",
    "\n",
    "ลดอายุตัวเอง 10 ปี และแทรกไว้หน้าสุดของลิสต์\n",
    "\n",
    "เพิ่มส่วนสูง น้ำหนักลงในลิสต์ โดยไปต่อท้าย\n",
    "\n",
    "Print สมาชิกในลิสต์ตัวที่ 3 ถึงตัวสุดท้าย"
   ]
  },
  {
   "cell_type": "code",
   "execution_count": 1,
   "metadata": {},
   "outputs": [
    {
     "data": {
      "text/plain": [
       "['Supat', 'Thianrungrot', '24']"
      ]
     },
     "execution_count": 1,
     "metadata": {},
     "output_type": "execute_result"
    }
   ],
   "source": [
    "# 1.สร้าง List ระบุ ชื่อ อายุ นามสกุล ตัวเอง\n",
    "Quiz1 = ['Supat','Thianrungrot','24']\n",
    "Quiz1"
   ]
  },
  {
   "cell_type": "code",
   "execution_count": 28,
   "metadata": {},
   "outputs": [
    {
     "data": {
      "text/plain": [
       "['Supat', 'Thianrungrot']"
      ]
     },
     "execution_count": 28,
     "metadata": {},
     "output_type": "execute_result"
    }
   ],
   "source": [
    "# 2.ลบอายุออกจากลิสต์\n",
    "Quiz2 = []\n",
    "Quiz2.extend(Quiz1)\n",
    "del Quiz2[2]\n",
    "Quiz2"
   ]
  },
  {
   "cell_type": "code",
   "execution_count": 40,
   "metadata": {},
   "outputs": [
    {
     "name": "stdout",
     "output_type": "stream",
     "text": [
      "['Supat', 'Thianrungrot', 14]\n",
      "[14, 'Supat', 'Thianrungrot']\n"
     ]
    }
   ],
   "source": [
    "# 3.ลดอายุตัวเอง 10 ปีและแทรกไว้หน้าสุดของ List\n",
    "Quiz3 = []\n",
    "Quiz3.extend(Quiz1)\n",
    "Quiz3[2] = int(Quiz3[2]) -10\n",
    "print(Quiz3)\n",
    "del Quiz3[2]\n",
    "Quiz3.insert(0,14)\n",
    "print(Quiz3)"
   ]
  },
  {
   "cell_type": "code",
   "execution_count": 42,
   "metadata": {},
   "outputs": [
    {
     "name": "stdout",
     "output_type": "stream",
     "text": [
      "[14, 'Supat', 'Thianrungrot', 171, 58]\n",
      "[14, 'Supat', 'Thianrungrot']\n",
      "[14, 'Supat', 'Thianrungrot', 171, 58]\n"
     ]
    }
   ],
   "source": [
    "# 4.เพิ่มส่วนสูง น้ำหนัก ต่อท้าย\n",
    "Quiz4 = []\n",
    "Quiz4.extend(Quiz3)\n",
    "Quiz4.append(171)\n",
    "Quiz4.append(58)\n",
    "print(Quiz4)\n",
    "del Quiz4[3:]\n",
    "print(Quiz4)\n",
    "Quiz4.extend([171,58])\n",
    "print(Quiz4)"
   ]
  },
  {
   "cell_type": "code",
   "execution_count": 45,
   "metadata": {},
   "outputs": [
    {
     "name": "stdout",
     "output_type": "stream",
     "text": [
      "['Thianrungrot', 171, 58]\n",
      "['Thianrungrot', 171, 58]\n"
     ]
    }
   ],
   "source": [
    "# 5.Print สมาชิก 3 ตัวสุดท้าย\n",
    "Quiz5 = []\n",
    "Quiz5.extend(Quiz4)\n",
    "print(Quiz5[-3:])\n",
    "print(Quiz5[2:])"
   ]
  }
 ],
 "metadata": {
  "kernelspec": {
   "display_name": "Python 3",
   "language": "python",
   "name": "python3"
  },
  "language_info": {
   "codemirror_mode": {
    "name": "ipython",
    "version": 3
   },
   "file_extension": ".py",
   "mimetype": "text/x-python",
   "name": "python",
   "nbconvert_exporter": "python",
   "pygments_lexer": "ipython3",
   "version": "3.8.3"
  }
 },
 "nbformat": 4,
 "nbformat_minor": 4
}
