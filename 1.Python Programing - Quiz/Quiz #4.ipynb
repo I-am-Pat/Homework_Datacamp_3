{
 "cells": [
  {
   "attachments": {},
   "cell_type": "markdown",
   "metadata": {},
   "source": [
    "#### Quiz 4\n",
    "a = [[[1,3],[3,4]],[5,[5,6],[7,8]]] แล้ว a[1][1][1] คือค่าใด\n",
    "\n",
    "เขียนชื่อนามสกุลอายุอยู่ในลิสต์เดียวของคน 4 คนแล้วใส่ไว้ในลิสต์ (Nested List) และแสดงผล\n",
    "\n",
    "ลบคนสุดท้ายของลิสต์นั้นออกและแสดงผล\n",
    "\n",
    "เพิ่มคนที่ 5 เข้ามาเป็นคนแรกของ Nested List และแสดงผล\n",
    "\n",
    "แก้ไขน้ำหนักคนที่สอง +10 และแสดงผล"
   ]
  },
  {
   "cell_type": "code",
   "execution_count": 1,
   "metadata": {},
   "outputs": [
    {
     "name": "stdout",
     "output_type": "stream",
     "text": [
      "My Answer 6\n",
      "Solution 6\n",
      "a =  [[[1, 3], [3, 4]], [5, [5, 6], [7, 8]]]\n",
      "a[1] =  [5, [5, 6], [7, 8]]\n",
      "a[1][1] =  [5, 6]\n",
      "a[1][1][1] =  6\n"
     ]
    }
   ],
   "source": [
    "# a = [[[1,3],[3,4]],[5,[5,6],[7,8]]] แล้ว a[1][1][1] คืออค่าใด\n",
    "a = [[[1,3],[3,4]],[5,[5,6],[7,8]]]\n",
    "print('My Answer' , 6)\n",
    "print('Solution' , a[1][1][1])\n",
    "print('a = ', a)\n",
    "print('a[1] = ' , a[1])\n",
    "print('a[1][1] = ' , a[1][1])\n",
    "print('a[1][1][1] = ' , a[1][1][1])"
   ]
  },
  {
   "cell_type": "code",
   "execution_count": 16,
   "metadata": {},
   "outputs": [
    {
     "name": "stdout",
     "output_type": "stream",
     "text": [
      "[['supat', 'Thianrungrot', 24], ['Nichaphat', 'Tonginsri', 26], ['Three', 'Mandown', 24], ['Tilly', 'Bird', 23]]\n"
     ]
    }
   ],
   "source": [
    "# เขียนชื่อนาทสกุลอายุอยู่ในลิสต์เดียวกันของ คน 4 คนแล้วใส่ใน Nested list และ แสดงผล\n",
    "person1 = ['supat','Thianrungrot',24]\n",
    "person2 = ['Nichaphat','Tonginsri',26]\n",
    "person3 = ['Three','Mandown',24]\n",
    "person4 = ['Tilly','Bird',23]\n",
    "All = [person1 , person2 , person3 , person4]\n",
    "print(All)"
   ]
  },
  {
   "cell_type": "code",
   "execution_count": 17,
   "metadata": {},
   "outputs": [
    {
     "name": "stdout",
     "output_type": "stream",
     "text": [
      "[['supat', 'Thianrungrot', 24], ['Nichaphat', 'Tonginsri', 26], ['Three', 'Mandown', 24]]\n"
     ]
    }
   ],
   "source": [
    "# ลบคนสุดท้ายของลิสนั้นออกแล้วแสดงผล\n",
    "del All[3]\n",
    "print(All)"
   ]
  },
  {
   "cell_type": "code",
   "execution_count": 18,
   "metadata": {},
   "outputs": [
    {
     "name": "stdout",
     "output_type": "stream",
     "text": [
      "[['Star', 'Bucks', 25], ['supat', 'Thianrungrot', 24], ['Nichaphat', 'Tonginsri', 26], ['Three', 'Mandown', 24]]\n"
     ]
    }
   ],
   "source": [
    "#เพิ่มคนที่ 5 เข้ามาเป็นคนแรกของ Nested List และแสดงผล\n",
    "All.insert(0,['Star','Bucks',25])\n",
    "print(All)"
   ]
  },
  {
   "cell_type": "code",
   "execution_count": 19,
   "metadata": {},
   "outputs": [
    {
     "name": "stdout",
     "output_type": "stream",
     "text": [
      "[['Star', 'Bucks', 25], ['supat', 'Thianrungrot', 34], ['Nichaphat', 'Tonginsri', 26], ['Three', 'Mandown', 24]]\n"
     ]
    }
   ],
   "source": [
    "#แก้ไขน้ำหนักคนที่ 2 +10 และแสดงผล\n",
    "All[1][2] = All[1][2] +10\n",
    "print(All)"
   ]
  }
 ],
 "metadata": {
  "kernelspec": {
   "display_name": "Python 3",
   "language": "python",
   "name": "python3"
  },
  "language_info": {
   "codemirror_mode": {
    "name": "ipython",
    "version": 3
   },
   "file_extension": ".py",
   "mimetype": "text/x-python",
   "name": "python",
   "nbconvert_exporter": "python",
   "pygments_lexer": "ipython3",
   "version": "3.8.3"
  }
 },
 "nbformat": 4,
 "nbformat_minor": 4
}
