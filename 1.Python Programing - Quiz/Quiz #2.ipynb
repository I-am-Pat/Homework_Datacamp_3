{
 "cells": [
  {
   "attachments": {},
   "cell_type": "markdown",
   "metadata": {},
   "source": [
    "#### Quiz 2\n",
    "เขียนฟังก์ชั่นไม่มีชื่อให้รับพารามิเตอร์ 1 ตัว และ ปริ้นค่านั้นหารด้วย 3 \n",
    "\n",
    "เขียนฟังก์ชั่นธรรมดารับค่า 4 พารามิเตอร์ และหาค่าเฉลี่ย\n",
    "\n",
    "เขียนฟังก์ชั่นไม่มีชื่อให้รับพารามิเตอร์ 3 ตัว และหาค่าเฉลี่ย"
   ]
  },
  {
   "cell_type": "code",
   "execution_count": 1,
   "metadata": {},
   "outputs": [
    {
     "name": "stdout",
     "output_type": "stream",
     "text": [
      "6.0\n"
     ]
    }
   ],
   "source": [
    "#เขียน Function ไม่มีชื่ให้รับพารามิเตอร์ 1 ตัวและปริ้นค่านั้นหารด้วย 3\n",
    "Quiz_1 = lambda x : x / 3\n",
    "print(Quiz_1(18))"
   ]
  },
  {
   "cell_type": "code",
   "execution_count": 10,
   "metadata": {},
   "outputs": [
    {
     "name": "stdout",
     "output_type": "stream",
     "text": [
      "19.5\n",
      "19.5\n"
     ]
    }
   ],
   "source": [
    "#เขียนฟังชั่นรับค่าพาริเตอร์ 4 พารามิเตอร์และหาค่าเฉลี่ย\n",
    "def Quiz_2(x1,x2,x3,x4) :\n",
    "    x = (x1 + x2 + x3 + x4) / 4\n",
    "    return x\n",
    "print(Quiz_2(15,17,18,28))\n",
    "\n",
    "Quiz_2l = lambda x1,x2,x3,x4 : (x1+x2+x3+x4)/ 4\n",
    "print(Quiz_2l(15,17,18,28))"
   ]
  },
  {
   "cell_type": "code",
   "execution_count": 6,
   "metadata": {},
   "outputs": [
    {
     "name": "stdout",
     "output_type": "stream",
     "text": [
      "19.333333333333332\n"
     ]
    }
   ],
   "source": [
    "#เขียน Function ไม่มีชื่อให้รับพารามิเตอร์ 3 ตัวและหาค่าเฉลี่ย\n",
    "Quiz_3 = lambda x,y,z : (x+y+z)/3\n",
    "print(Quiz_3(15,26,17))"
   ]
  }
 ],
 "metadata": {
  "kernelspec": {
   "display_name": "Python 3",
   "language": "python",
   "name": "python3"
  },
  "language_info": {
   "codemirror_mode": {
    "name": "ipython",
    "version": 3
   },
   "file_extension": ".py",
   "mimetype": "text/x-python",
   "name": "python",
   "nbconvert_exporter": "python",
   "pygments_lexer": "ipython3",
   "version": "3.8.3"
  }
 },
 "nbformat": 4,
 "nbformat_minor": 4
}
