{
 "cells": [
  {
   "attachments": {},
   "cell_type": "markdown",
   "metadata": {},
   "source": [
    "### Quiz8\n",
    "เขียนโปรแกรมให้รับค่าอาหาร 4 ครั้งที่ไปทานอาหารนอกบ้านล่าสุด โดยแต่ละครั้งต้องไม่ต่ำกว่า 1,000 และไม่เกิน 5,000 (ผู้ใช้ต้องใส่อยู่ในช่วงนี้) และนำค่าอาหาร 3 ครั้งแรกมาบวกกัน หากเกิน 6,000 บาท จะได้รับส่วนลด 15% หากเกิน 12,000 จะได้รับส่วนลด 25% ของมื้อที่ 4 จงหายอดเงินสุดท้ายที่ต้องจ่ายของมื้อที่ 4"
   ]
  },
  {
   "cell_type": "code",
   "execution_count": 5,
   "metadata": {},
   "outputs": [],
   "source": [
    "def bills(T1,T2,T3,T4) :\n",
    "    if (T1 > 1000 and T1 < 5000) \\\n",
    "    and(T2 > 1000 and T2 < 5000) \\\n",
    "    and(T3 > 1000 and T3 < 5000) \\\n",
    "    and(T4 > 1000 and T4 < 5000) \\\n",
    "    and T1+T2+T3 > 6000 :\n",
    "        Total = 0.85*T4\n",
    "        print(\"ลด 15% จาก \",T4,\" เหลือ \",Total)\n",
    "        \n",
    "    elif T1+T2+T3 > 12000 :\n",
    "        Total = 0.75*T4\n",
    "        print(\"ลด 25% จาก \",T4,\" เหลือ \",Total)\n",
    "        \n",
    "    else :\n",
    "        print(\"ไม่ได้ส่วนลด คงเหลือ \",T4)"
   ]
  },
  {
   "cell_type": "code",
   "execution_count": 6,
   "metadata": {},
   "outputs": [
    {
     "name": "stdout",
     "output_type": "stream",
     "text": [
      "ลด 15% จาก  1500  เหลือ  1275.0\n",
      "ไม่ได้ส่วนลด คงเหลือ  1500\n"
     ]
    }
   ],
   "source": [
    "bills(3000,3000,3000,1500)\n",
    "bills(300,3000,3000,1500)"
   ]
  },
  {
   "cell_type": "code",
   "execution_count": null,
   "metadata": {},
   "outputs": [],
   "source": []
  }
 ],
 "metadata": {
  "kernelspec": {
   "display_name": "Python 3",
   "language": "python",
   "name": "python3"
  },
  "language_info": {
   "codemirror_mode": {
    "name": "ipython",
    "version": 3
   },
   "file_extension": ".py",
   "mimetype": "text/x-python",
   "name": "python",
   "nbconvert_exporter": "python",
   "pygments_lexer": "ipython3",
   "version": "3.8.3"
  }
 },
 "nbformat": 4,
 "nbformat_minor": 4
}
