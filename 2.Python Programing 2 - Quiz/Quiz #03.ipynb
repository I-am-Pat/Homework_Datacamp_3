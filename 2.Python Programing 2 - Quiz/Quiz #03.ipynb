{
 "cells": [
  {
   "attachments": {},
   "cell_type": "markdown",
   "metadata": {},
   "source": [
    "### Quiz3\n",
    "เขียนโปรแกรม infinity while loop โดยรับค่า input มาเรื่อยๆ จนกว่าผู้ใช้จะใส่เลข 0 และนำเลขทั้งหมดมาหาค่าเฉลี่ย"
   ]
  },
  {
   "cell_type": "code",
   "execution_count": 3,
   "metadata": {},
   "outputs": [
    {
     "name": "stdout",
     "output_type": "stream",
     "text": [
      "ค่าจาก User คือ : 1\n",
      "ค่าจาก User คือ : 2\n",
      "ค่าจาก User คือ : 3\n",
      "ค่าจาก User คือ : 4\n",
      "ค่าจาก User คือ : 5\n",
      "ค่าจาก User คือ : 6\n",
      "ค่าจาก User คือ : 7\n",
      "ค่าจาก User คือ : 0\n",
      "Average =  3.5\n"
     ]
    }
   ],
   "source": [
    "List1 = []\n",
    "Input = 1\n",
    "while Input != 0 :\n",
    "    Input = int(input(\"ค่าจาก User คือ : \"))\n",
    "    List1.append(Input)\n",
    "print(\"Average = \",sum(List1) / len(List1))"
   ]
  },
  {
   "cell_type": "code",
   "execution_count": null,
   "metadata": {},
   "outputs": [],
   "source": []
  }
 ],
 "metadata": {
  "kernelspec": {
   "display_name": "Python 3",
   "language": "python",
   "name": "python3"
  },
  "language_info": {
   "codemirror_mode": {
    "name": "ipython",
    "version": 3
   },
   "file_extension": ".py",
   "mimetype": "text/x-python",
   "name": "python",
   "nbconvert_exporter": "python",
   "pygments_lexer": "ipython3",
   "version": "3.8.3"
  }
 },
 "nbformat": 4,
 "nbformat_minor": 4
}
