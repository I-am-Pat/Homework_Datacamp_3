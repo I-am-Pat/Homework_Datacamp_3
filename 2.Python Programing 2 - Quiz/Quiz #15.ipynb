{
 "cells": [
  {
   "attachments": {},
   "cell_type": "markdown",
   "metadata": {},
   "source": [
    "### Quiz15\n",
    "โรงละครสัตว์มีนก กับ วัว และต้องจ่ายภาษีสัตว์ 2 ขา 150 บาทต่อตัว   จ่ายภาษีสัตว์ 4 ขา 220 บาทต่อตัว เขียนโปรแกรมรับค่า input สองตัว ตัวแรกเป็นผลรวมจำนวนหัวของสัตว์ ตัวสองเป็นผลรวมจำนวนขาของสัตว์ จงหาว่าโรงละครสัตว์ต้องจ่ายภาษีเท่าใด"
   ]
  },
  {
   "cell_type": "code",
   "execution_count": 7,
   "metadata": {},
   "outputs": [
    {
     "name": "stdout",
     "output_type": "stream",
     "text": [
      "ใส่จำนวนหัว : 28\n",
      "ใส่จำนวนขา : 94\n",
      "{'Cow': 19.0, 'Bird': 9.0}\n",
      "{'Tax Cow = ': 4180.0, 'Tax Bird = ': 1350.0}\n"
     ]
    }
   ],
   "source": [
    "Total_Head = int(input(\"ใส่จำนวนหัว : \"))\n",
    "Total_Leg = int(input(\"ใส่จำนวนขา : \"))\n",
    "\n",
    "Result = {'Cow':0,'Bird':0}\n",
    "\n",
    "while Total_Head*4 < Total_Leg :\n",
    "    Total_Head = int(input(\"ใส่จำนวนหัวใหม่\"))\n",
    "while Total_Leg%2 != 0 :\n",
    "    Total_Leg = int(input(\"ใส่จำนวนขาใหม่\"))\n",
    "while Total_Head > Total_Leg :\n",
    "    print(\"จำนวนหัว ห้ามมากกว่าจำนวนขา\")\n",
    "    Total_Head = int(input(\"ใส่จำนวนหัวใหม่\"))\n",
    "    Total_Leg = int(input(\"ใส่จำนวนขาใหม่\"))\n",
    "    \n",
    "Total_Bird = int(((Total_Head*4)-Total_Leg))/2\n",
    "Result['Bird'] += Total_Bird\n",
    "Total_Cow = Total_Head - Total_Bird\n",
    "Result['Cow'] += Total_Cow\n",
    "Tax = {'Tax Cow = ':Result['Cow']*220,\n",
    "      'Tax Bird = ':Result['Bird']*150}\n",
    "print(Result)\n",
    "print(Tax)"
   ]
  },
  {
   "cell_type": "code",
   "execution_count": null,
   "metadata": {},
   "outputs": [],
   "source": []
  }
 ],
 "metadata": {
  "kernelspec": {
   "display_name": "Python 3",
   "language": "python",
   "name": "python3"
  },
  "language_info": {
   "codemirror_mode": {
    "name": "ipython",
    "version": 3
   },
   "file_extension": ".py",
   "mimetype": "text/x-python",
   "name": "python",
   "nbconvert_exporter": "python",
   "pygments_lexer": "ipython3",
   "version": "3.8.3"
  }
 },
 "nbformat": 4,
 "nbformat_minor": 4
}
