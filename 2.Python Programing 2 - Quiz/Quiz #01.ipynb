{
 "cells": [
  {
   "attachments": {},
   "cell_type": "markdown",
   "metadata": {},
   "source": [
    "### Quiz 1\n",
    "เขียนโปรแกรมรับ input จากผู้ใช้ 1 ตัว แปลงให้เป็น int และตรวจสอบว่าเป็นเลขคู่หรือเลขคี่ \n",
    "\n",
    "\t- หากเป็นเลขคู่ ให้พิมพ์ว่า เลขคู่\n",
    "\n",
    "\t- หากเป็นเลขคี่ ให้พิมพ์ว่า เลขคี่\n",
    "\n",
    "\t- หากเป็นเลขศูนย์ให้พิมพ์ว่า เลขศูนย์"
   ]
  },
  {
   "cell_type": "code",
   "execution_count": 5,
   "metadata": {},
   "outputs": [
    {
     "name": "stdout",
     "output_type": "stream",
     "text": [
      "รับค่า :0\n",
      "ค่า 0 นี้เป็น 0\n",
      "รับค่า :1\n",
      "ค่า  1 เป็นเลข คี่\n",
      "รับค่า :2\n",
      "ค่า  2 เป็นเลข คู่\n",
      "รับค่า :3\n",
      "ค่า  3 เป็นเลข คี่\n",
      "รับค่า :4\n",
      "ค่า  4 เป็นเลข คู่\n",
      "รับค่า :1112\n",
      "ค่า  1112 เป็นเลข คู่\n",
      "ออก Loop\n"
     ]
    }
   ],
   "source": [
    "Result = 0\n",
    "while Result != 1112 :\n",
    "    Result = int(input(\"รับค่า :\"))\n",
    "    if Result == 0 :\n",
    "        print(\"ค่า\",Result,\"นี้เป็น 0\")\n",
    "    elif Result%2 == 0 :\n",
    "        print(\"ค่า \",Result,\"เป็นเลข คู่\")\n",
    "    else :\n",
    "        print(\"ค่า \",Result,\"เป็นเลข คี่\")\n",
    "print('ออก Loop')"
   ]
  },
  {
   "cell_type": "code",
   "execution_count": null,
   "metadata": {},
   "outputs": [],
   "source": []
  }
 ],
 "metadata": {
  "kernelspec": {
   "display_name": "Python 3",
   "language": "python",
   "name": "python3"
  },
  "language_info": {
   "codemirror_mode": {
    "name": "ipython",
    "version": 3
   },
   "file_extension": ".py",
   "mimetype": "text/x-python",
   "name": "python",
   "nbconvert_exporter": "python",
   "pygments_lexer": "ipython3",
   "version": "3.8.3"
  }
 },
 "nbformat": 4,
 "nbformat_minor": 4
}
