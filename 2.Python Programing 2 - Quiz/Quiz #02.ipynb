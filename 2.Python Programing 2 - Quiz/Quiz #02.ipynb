{
 "cells": [
  {
   "attachments": {},
   "cell_type": "markdown",
   "metadata": {},
   "source": [
    "### Quiz2\n",
    "เขียนโปรแกรมรับค่า input 2 ตัว ในรูปแบบ float โดยให้ตัวแรกเป็นตัวตั้ง ตัวที่สองเป็นตัวหาร\n",
    "\n",
    "\t- หาผลลัพธ์ของการหาร\n",
    "\n",
    "\t- ใส่เลขทศนิยมได้\n",
    "\n",
    "\t- ถ้าตัวหารเป็น 0 ให้รับค่าใหม่จนกว่าจะเป็นเลขที่หารได้"
   ]
  },
  {
   "cell_type": "code",
   "execution_count": 2,
   "metadata": {},
   "outputs": [
    {
     "name": "stdout",
     "output_type": "stream",
     "text": [
      "รับค่าตัวที่ 1 :12\n",
      "รับค่าตัวที่ 2 :2\n",
      "6.0\n",
      "รับค่าตัวที่ 1 :13\n",
      "รับค่าตัวที่ 2 :3\n",
      "4.333333333333333\n",
      "รับค่าตัวที่ 1 :14\n",
      "รับค่าตัวที่ 2 :4\n",
      "3.5\n",
      "รับค่าตัวที่ 1 :1112\n",
      "รับค่าตัวที่ 2 :2\n",
      "556.0\n",
      "ออก Loop\n"
     ]
    }
   ],
   "source": [
    "Input1 = 0\n",
    "Input2 = 0\n",
    "\n",
    "while Input1 != 1112.0 :\n",
    "    Input1 = float(input(\"รับค่าตัวที่ 1 :\"))\n",
    "    Input2 = float(input(\"รับค่าตัวที่ 2 :\"))\n",
    "    while Input2 == 0 :\n",
    "        Input2 = float(input(\"รับค่าตัวที่ 2(ตัวที่ 2 ห้ามเท่ากับ 0)\"))\n",
    "    print(Input1/Input2)\n",
    "print('ออก Loop')"
   ]
  },
  {
   "cell_type": "code",
   "execution_count": null,
   "metadata": {},
   "outputs": [],
   "source": []
  }
 ],
 "metadata": {
  "kernelspec": {
   "display_name": "Python 3",
   "language": "python",
   "name": "python3"
  },
  "language_info": {
   "codemirror_mode": {
    "name": "ipython",
    "version": 3
   },
   "file_extension": ".py",
   "mimetype": "text/x-python",
   "name": "python",
   "nbconvert_exporter": "python",
   "pygments_lexer": "ipython3",
   "version": "3.8.3"
  }
 },
 "nbformat": 4,
 "nbformat_minor": 4
}
