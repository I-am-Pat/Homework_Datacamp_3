{
 "cells": [
  {
   "attachments": {},
   "cell_type": "markdown",
   "metadata": {},
   "source": [
    "### Quiz12\n",
    "เขียนโปรแกรมรับ input 4 ตัวที่เป็น string จากนั้นตรวจสอบว่า input ใดมีความยาวมากที่สุด รองลงมา และน้อยที่สุด จากนั้น ปริ้นแต่ละ input ออกมาตามลำดับน้อยสุดไปมากสุด"
   ]
  },
  {
   "cell_type": "code",
   "execution_count": 4,
   "metadata": {},
   "outputs": [
    {
     "name": "stdout",
     "output_type": "stream",
     "text": [
      "คำที่ 1 :DataScience\n",
      "คำที่ 2 :Python\n",
      "คำที่ 3 :Supat\n",
      "คำที่ 4 :Hello world\n",
      "Supat\n",
      "Python\n",
      "DataScience\n",
      "Hello world\n"
     ]
    }
   ],
   "source": [
    "Word1 = input(\"คำที่ 1 :\")\n",
    "Word2 = input(\"คำที่ 2 :\")\n",
    "Word3 = input(\"คำที่ 3 :\")\n",
    "Word4 = input(\"คำที่ 4 :\")\n",
    "\n",
    "All_word = [Word1,Word2,Word3,Word4]\n",
    "Result = []\n",
    "for i in All_word :\n",
    "    Result.append([len(i),i])\n",
    "Result = sorted(Result)\n",
    "for j in Result :\n",
    "    print(j[1])"
   ]
  },
  {
   "cell_type": "code",
   "execution_count": null,
   "metadata": {},
   "outputs": [],
   "source": []
  }
 ],
 "metadata": {
  "kernelspec": {
   "display_name": "Python 3",
   "language": "python",
   "name": "python3"
  },
  "language_info": {
   "codemirror_mode": {
    "name": "ipython",
    "version": 3
   },
   "file_extension": ".py",
   "mimetype": "text/x-python",
   "name": "python",
   "nbconvert_exporter": "python",
   "pygments_lexer": "ipython3",
   "version": "3.8.3"
  }
 },
 "nbformat": 4,
 "nbformat_minor": 4
}
