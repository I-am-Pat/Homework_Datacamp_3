{
 "cells": [
  {
   "attachments": {},
   "cell_type": "markdown",
   "metadata": {},
   "source": [
    "### Quiz5\n",
    "เขียนโปรแกรมรับค่า int มา 3 จำนวน และตรวจสอบว่า 3 เลขนั้นสามารถนำมาสร้าง 3 เหลี่ยมมุมฉากได้หรือไม่"
   ]
  },
  {
   "cell_type": "code",
   "execution_count": 2,
   "metadata": {},
   "outputs": [],
   "source": [
    "def Triangle(d1,d2,d3) :\n",
    "    Result = []\n",
    "    d1 = d1\n",
    "    d2 = d2\n",
    "    d3 = d3\n",
    "    Result.append(d1)\n",
    "    Result.append(d2)\n",
    "    Result.append(d3)\n",
    "\n",
    "    C = max(Result) # ยาวสุด\n",
    "    CIndex = Result.index(C)\n",
    "    Result[CIndex] = 0\n",
    "    AB = list(map(lambda x : x**2 , Result))\n",
    "    \n",
    "    \n",
    "    if sum(AB) == C**2 : \n",
    "        print(\"Can make right triangle\")\n",
    "    else :\n",
    "        print(\"Cann't make right triangle\")"
   ]
  },
  {
   "cell_type": "code",
   "execution_count": 3,
   "metadata": {},
   "outputs": [
    {
     "name": "stdout",
     "output_type": "stream",
     "text": [
      "Can make right triangle\n",
      "Cann't make right triangle\n",
      "Can make right triangle\n"
     ]
    }
   ],
   "source": [
    "Triangle(3,4,5)\n",
    "Triangle(9,10,11)\n",
    "Triangle(9,12,15)"
   ]
  },
  {
   "cell_type": "code",
   "execution_count": null,
   "metadata": {},
   "outputs": [],
   "source": []
  }
 ],
 "metadata": {
  "kernelspec": {
   "display_name": "Python 3",
   "language": "python",
   "name": "python3"
  },
  "language_info": {
   "codemirror_mode": {
    "name": "ipython",
    "version": 3
   },
   "file_extension": ".py",
   "mimetype": "text/x-python",
   "name": "python",
   "nbconvert_exporter": "python",
   "pygments_lexer": "ipython3",
   "version": "3.8.3"
  }
 },
 "nbformat": 4,
 "nbformat_minor": 4
}
