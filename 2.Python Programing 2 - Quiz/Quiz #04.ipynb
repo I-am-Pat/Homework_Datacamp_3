{
 "cells": [
  {
   "attachments": {},
   "cell_type": "markdown",
   "metadata": {},
   "source": [
    "### Quiz4\n",
    "เขียนโปรมแกรมรับค่า input ที่เป็น integer มาหนึ่งตัว ตรวจสอบว่าเลขนั้นหาร 7 ลงตัวหรือไม่\n",
    "\n",
    "\t- ถ้าหารลงตัว ให้ปริ้น ‘หาร 7 ลงตัว’\n",
    "\n",
    "\t - ถ้าหารไม่ลงตัว ให้ปริ้น ‘หาร 7 ไม่ลงตัว’"
   ]
  },
  {
   "cell_type": "code",
   "execution_count": 3,
   "metadata": {},
   "outputs": [
    {
     "name": "stdout",
     "output_type": "stream",
     "text": [
      "สุ่มเลข :12\n",
      "7 หารไม่ลงตัว\n",
      "สุ่มเลข :13\n",
      "7 หารไม่ลงตัว\n",
      "สุ่มเลข :14\n",
      "7 หารลงตัว\n",
      "สุ่มเลข :15\n",
      "7 หารไม่ลงตัว\n",
      "สุ่มเลข :1112\n",
      "7 หารไม่ลงตัว\n",
      "ออก Loop\n"
     ]
    }
   ],
   "source": [
    "c = 0\n",
    "while c != 1112 :\n",
    "    c = int(input(\"สุ่มเลข :\"))\n",
    "    if c%7 == 0 :\n",
    "        print(\"7 หารลงตัว\")\n",
    "    else :\n",
    "        print(\"7 หารไม่ลงตัว\")\n",
    "print(\"ออก Loop\")"
   ]
  },
  {
   "cell_type": "code",
   "execution_count": null,
   "metadata": {},
   "outputs": [],
   "source": []
  }
 ],
 "metadata": {
  "kernelspec": {
   "display_name": "Python 3",
   "language": "python",
   "name": "python3"
  },
  "language_info": {
   "codemirror_mode": {
    "name": "ipython",
    "version": 3
   },
   "file_extension": ".py",
   "mimetype": "text/x-python",
   "name": "python",
   "nbconvert_exporter": "python",
   "pygments_lexer": "ipython3",
   "version": "3.8.3"
  }
 },
 "nbformat": 4,
 "nbformat_minor": 4
}
