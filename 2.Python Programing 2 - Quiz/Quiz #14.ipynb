{
 "cells": [
  {
   "attachments": {},
   "cell_type": "markdown",
   "metadata": {},
   "source": [
    "### Quiz14\n",
    "เขียนโปรแกรมรับ input สองตัวเป็นจำนวนเต็มระหว่าง 0-60 โดยตัวแรกเป็นชั่วโมงและตัวที่สองเป็นนาที คำนวณค่าที่จอดรถถ้าชั่วโมงละ 300 บาท เศษนาทีเกิน 15 นาทีคิดเป็นหนึ่งชั่วโมง หากไม่เกินไม่คิดเงิน และชั่วโมงแรกจอดฟรี"
   ]
  },
  {
   "cell_type": "code",
   "execution_count": 7,
   "metadata": {},
   "outputs": [
    {
     "name": "stdout",
     "output_type": "stream",
     "text": [
      "Hour : 1\n",
      "Minute : 15\n",
      "จอดฟรี\n"
     ]
    }
   ],
   "source": [
    "Input1 = int(input(\"Hour : \"))\n",
    "Input2 = int(input(\"Minute : \"))\n",
    "\n",
    "Total = (Input1*60)+Input2\n",
    "Remain = (Total - int(Total/60)*60)\n",
    "if Total < 76 :\n",
    "    print(\"จอดฟรี\")\n",
    "elif Remain < 15 :\n",
    "    Cash = int(Total/60)*300\n",
    "    Cash = Cash - 300 #ชั่วโมงแรกจอดฟรี\n",
    "    print(\"ค่าจอดรถ \",Cash,\" บาท\")\n",
    "else :\n",
    "    Cash = (int(Total/60)+1)*300\n",
    "    Cash = Cash - 300 #ชั่วโมงแรกจอดฟรี\n",
    "    print(\"ค่าจอดรถ \",Cash,\" บาท\")"
   ]
  },
  {
   "cell_type": "code",
   "execution_count": null,
   "metadata": {},
   "outputs": [],
   "source": []
  }
 ],
 "metadata": {
  "kernelspec": {
   "display_name": "Python 3",
   "language": "python",
   "name": "python3"
  },
  "language_info": {
   "codemirror_mode": {
    "name": "ipython",
    "version": 3
   },
   "file_extension": ".py",
   "mimetype": "text/x-python",
   "name": "python",
   "nbconvert_exporter": "python",
   "pygments_lexer": "ipython3",
   "version": "3.8.3"
  }
 },
 "nbformat": 4,
 "nbformat_minor": 4
}
