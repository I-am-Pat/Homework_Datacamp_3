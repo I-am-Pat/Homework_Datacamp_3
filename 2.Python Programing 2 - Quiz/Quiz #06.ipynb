{
 "cells": [
  {
   "attachments": {},
   "cell_type": "markdown",
   "metadata": {},
   "source": [
    "### Quiz6\n",
    "เขียนโปรแกรมรับค่า int มา 3 จำนวน และตรวจสอบว่าเมื่อนำ 3 เลขนั้นมาสร้าง 3 เหลี่ยม จะได้สามเหลี่ยมแบบใด\n",
    "\t\n",
    "\t- สามเหลี่ยมมุมแหลม\n",
    "\n",
    "\t- สามเหลี่ยมมุมป้าน\n",
    "\n",
    "\t- สามเหลี่ยมมุมฉาก"
   ]
  },
  {
   "cell_type": "code",
   "execution_count": 2,
   "metadata": {},
   "outputs": [],
   "source": [
    "def Triangle(d1,d2,d3) :\n",
    "    Result = []\n",
    "    d1 = d1\n",
    "    d2 = d2\n",
    "    d3 = d3\n",
    "    Result.append(d1)\n",
    "    Result.append(d2)\n",
    "    Result.append(d3)\n",
    "\n",
    "    C = max(Result) # ยาวสุด\n",
    "    CIndex = Result.index(C)\n",
    "    Result[CIndex] = 0\n",
    "    AB = list(map(lambda x : x**2 , Result))\n",
    "    \n",
    "    \n",
    "    if sum(AB) == C**2 : \n",
    "        print(\"It is right triangle\")\n",
    "    elif sum(AB) > C**2:\n",
    "        print(\"It is Obtuse triangle\")\n",
    "    else :\n",
    "         print(\"It is Acute triangle\")"
   ]
  },
  {
   "cell_type": "code",
   "execution_count": 3,
   "metadata": {},
   "outputs": [
    {
     "name": "stdout",
     "output_type": "stream",
     "text": [
      "It is Obtuse triangle\n",
      "It is Acute triangle\n",
      "It is right triangle\n"
     ]
    }
   ],
   "source": [
    "Triangle(90,80,85)\n",
    "Triangle(90,10,20)\n",
    "Triangle(30,40,50)"
   ]
  },
  {
   "cell_type": "code",
   "execution_count": null,
   "metadata": {},
   "outputs": [],
   "source": []
  }
 ],
 "metadata": {
  "kernelspec": {
   "display_name": "Python 3",
   "language": "python",
   "name": "python3"
  },
  "language_info": {
   "codemirror_mode": {
    "name": "ipython",
    "version": 3
   },
   "file_extension": ".py",
   "mimetype": "text/x-python",
   "name": "python",
   "nbconvert_exporter": "python",
   "pygments_lexer": "ipython3",
   "version": "3.8.3"
  }
 },
 "nbformat": 4,
 "nbformat_minor": 4
}
