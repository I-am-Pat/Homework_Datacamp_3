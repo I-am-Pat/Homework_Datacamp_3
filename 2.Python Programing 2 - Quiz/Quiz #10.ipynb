{
 "cells": [
  {
   "attachments": {},
   "cell_type": "markdown",
   "metadata": {},
   "source": [
    "### Quiz10\n",
    "เขียนโปรแกรมให้รับค่าอาหาร 4 ครั้งที่ไปทานอาหารนอกบ้านล่าสุด โดยแต่ละครั้งต้องไม่ต่ำกว่า 1,000 และไม่เกิน 5,000 (เขียนให้ผู้ใช้ใส่ใหม่หากไม่อยู่ในช่วงที่กำหนด) และถามผู้ใช้มีบัตรเครดิตหรือไม่(True/False) นำค่าอาหาร 3 ครั้งแรกมาบวกกัน หากเกิน 4,000 บาท จะได้รับส่วนลด 25% หากเกิน 9,000 จะได้รับส่วนลด 30% ของมื้อที่ 4 หากมีบัตรเครดิต ลดเพิ่มอีก 5%    จงหายอดเงินสุดท้ายที่ต้องจ่ายของมื้อที่ 4"
   ]
  },
  {
   "cell_type": "code",
   "execution_count": 2,
   "metadata": {},
   "outputs": [
    {
     "name": "stdout",
     "output_type": "stream",
     "text": [
      "ค่าอาหารครั้งที่ 1 :1500\n",
      "ค่าอาหารครั้งที่ 2 :1600\n",
      "ค่าอาหารครั้งที่ 3 :17000\n",
      "ค่าอาหารครั้งที่ 4 :4500\n",
      "จ่ายเป็นบัตรเครดิตใช่หรือไม่ (True/False) :True\n",
      "ใส่ค่าอาหารครั้งที่ 3 ใหม่:1800\n",
      "รวม 3 ครั้งเท่ากับ 1500 + 1600 + 1800  =  4900\n",
      "ลด 25% และจ่ายผ่านบัตรลดอีก 5% ้เป็น 30% จาก  4500  เหลือ  3150.0\n"
     ]
    }
   ],
   "source": [
    "T1 = int(input(\"ค่าอาหารครั้งที่ 1 :\"))\n",
    "T2 = int(input(\"ค่าอาหารครั้งที่ 2 :\"))\n",
    "T3 = int(input(\"ค่าอาหารครั้งที่ 3 :\"))\n",
    "T4 = int(input(\"ค่าอาหารครั้งที่ 4 :\"))\n",
    "Type = input(\"จ่ายเป็นบัตรเครดิตใช่หรือไม่ (True/False) :\")\n",
    "\n",
    "while T1 < 1000 or T1 > 5000 :\n",
    "    T1 = int(input(\"ใส่ค่าอาหารครั้งที่ 1 ใหม่ :\"))\n",
    "while T2 < 1000 or T2 > 5000 :\n",
    "    T2 = int(input(\"ใส่ค่าอาหารครั้งที่ 2 ใหม่:\"))\n",
    "while T3 < 1000 or T3 > 5000 :\n",
    "    T3 = int(input(\"ใส่ค่าอาหารครั้งที่ 3 ใหม่:\"))\n",
    "while T4 < 1000 or T4 > 5000 :\n",
    "    T4 = int(input(\"ใส่ค่าอาหารครั้งที่ 4 ใหม่:\"))\n",
    "    \n",
    "Total = T1+T2+T3\n",
    "if Total > 4000 and Type == 'False' :\n",
    "    Balance = 0.75*T4\n",
    "    print(\"รวม 3 ครั้งเท่ากับ\",T1,\"+\",T2,\"+\",T3,\" = \",Total)\n",
    "    print(\"ลด 25% จาก \",T4,\" เหลือ \",Balance) \n",
    "elif Total > 4000 and Type == 'True':\n",
    "    Balance = 0.70*T4\n",
    "    print(\"รวม 3 ครั้งเท่ากับ\",T1,\"+\",T2,\"+\",T3,\" = \",Total)\n",
    "    print(\"ลด 25% และจ่ายผ่านบัตรลดอีก 5% ้เป็น 30% จาก \",T4,\" เหลือ \",Balance) \n",
    "elif Total > 9000 and T== 'False':\n",
    "    Balance = 0.70*T4\n",
    "    print(\"รวม 3 ครั้งเท่ากับ\",T1,\"+\",T2,\"+\",T3,\" = \",Total)\n",
    "    print(\"ลด 30% จาก \",T4,\" เหลือ \",Balance) \n",
    "elif Total > 9000 and Type == 'True':\n",
    "    Balance = 0.65*T4\n",
    "    print(\"รวม 3 ครั้งเท่ากับ\",T1,\"+\",T2,\"+\",T3,\" = \",Total)\n",
    "    print(\"ลด 30% และจ่ายผ่านบัตรลดอีก 5 % เป็น 35% จาก \",T4,\" เหลือ \",Balance) \n",
    "else :\n",
    "    print(\"ไม่ได้ส่วนลด คงเหลือ \",T4)"
   ]
  },
  {
   "cell_type": "code",
   "execution_count": null,
   "metadata": {},
   "outputs": [],
   "source": []
  }
 ],
 "metadata": {
  "kernelspec": {
   "display_name": "Python 3",
   "language": "python",
   "name": "python3"
  },
  "language_info": {
   "codemirror_mode": {
    "name": "ipython",
    "version": 3
   },
   "file_extension": ".py",
   "mimetype": "text/x-python",
   "name": "python",
   "nbconvert_exporter": "python",
   "pygments_lexer": "ipython3",
   "version": "3.8.3"
  }
 },
 "nbformat": 4,
 "nbformat_minor": 4
}
